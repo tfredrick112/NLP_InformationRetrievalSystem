{
 "cells": [
  {
   "cell_type": "markdown",
   "metadata": {},
   "source": [
    "## Interactive Application for the Cranfield Search Engine"
   ]
  },
  {
   "cell_type": "code",
   "execution_count": 1,
   "metadata": {
    "scrolled": false
   },
   "outputs": [
    {
     "name": "stdout",
     "output_type": "stream",
     "text": [
      "\u001b[92mCRANFIELD SEARCH ENGINE\u001b[0m\n",
      "\u001b[95mNLP Course Project by Emil Biju and Tony Fredrick\u001b[0m\n"
     ]
    },
    {
     "data": {
      "application/vnd.jupyter.widget-view+json": {
       "model_id": "afeb358a7b7643c891e330ca582e7697",
       "version_major": 2,
       "version_minor": 0
      },
      "text/plain": [
       "interactive(children=(Dropdown(description='segmenter', options=('punkt', 'naive'), value='punkt'), Output()),…"
      ]
     },
     "metadata": {},
     "output_type": "display_data"
    },
    {
     "data": {
      "application/vnd.jupyter.widget-view+json": {
       "model_id": "0a5f306989dc4bcfa19c75235ad08d2c",
       "version_major": 2,
       "version_minor": 0
      },
      "text/plain": [
       "interactive(children=(Dropdown(description='tokenizer', options=('ptb', 'naive'), value='ptb'), Output()), _do…"
      ]
     },
     "metadata": {},
     "output_type": "display_data"
    },
    {
     "data": {
      "application/vnd.jupyter.widget-view+json": {
       "model_id": "cf43b6ee6fec45a2acfa7bb9e38c1fb7",
       "version_major": 2,
       "version_minor": 0
      },
      "text/plain": [
       "interactive(children=(Dropdown(description='model', options=('vector_space', 'glove_weighted_tfidf', 'lsa', 'l…"
      ]
     },
     "metadata": {},
     "output_type": "display_data"
    },
    {
     "data": {
      "application/vnd.jupyter.widget-view+json": {
       "model_id": "bd9823c3a20b48959b2a6a18f2e0a874",
       "version_major": 2,
       "version_minor": 0
      },
      "text/plain": [
       "Text(value='200', description='k', placeholder='Enter k here!')"
      ]
     },
     "metadata": {},
     "output_type": "display_data"
    },
    {
     "data": {
      "application/vnd.jupyter.widget-view+json": {
       "model_id": "49256aaa317e4fd7899bbeac6d3873a2",
       "version_major": 2,
       "version_minor": 0
      },
      "text/plain": [
       "Button(description='Enter Custom Query', style=ButtonStyle())"
      ]
     },
     "metadata": {},
     "output_type": "display_data"
    },
    {
     "data": {
      "application/vnd.jupyter.widget-view+json": {
       "model_id": "4737f649f43348a2bffb6cad74d9ad83",
       "version_major": 2,
       "version_minor": 0
      },
      "text/plain": [
       "Output()"
      ]
     },
     "metadata": {},
     "output_type": "display_data"
    },
    {
     "data": {
      "application/vnd.jupyter.widget-view+json": {
       "model_id": "e24ba2ac6a5a4ba4a1c75d2c9e2d5b7b",
       "version_major": 2,
       "version_minor": 0
      },
      "text/plain": [
       "Button(description='Preprocess @ runtime', style=ButtonStyle())"
      ]
     },
     "metadata": {},
     "output_type": "display_data"
    },
    {
     "data": {
      "application/vnd.jupyter.widget-view+json": {
       "model_id": "b554932d8f5e4b0aaa2a2b7b964edff5",
       "version_major": 2,
       "version_minor": 0
      },
      "text/plain": [
       "Output()"
      ]
     },
     "metadata": {},
     "output_type": "display_data"
    },
    {
     "name": "stdout",
     "output_type": "stream",
     "text": [
      "Custom query mode activated!\n"
     ]
    }
   ],
   "source": [
    "import argparse, sys, importlib\n",
    "import matplotlib.pyplot as plt\n",
    "%matplotlib inline\n",
    "\n",
    "args = argparse.Namespace()\n",
    "\n",
    "import ipywidgets as widgets\n",
    "from IPython.display import display\n",
    "from ipywidgets import interact, interact_manual\n",
    "\n",
    "class color:\n",
    "    PURPLE = '\\033[95m'\n",
    "    CYAN = '\\033[96m'\n",
    "    DARKCYAN = '\\033[36m'\n",
    "    BLUE = '\\033[94m'\n",
    "    GREEN = '\\033[92m'\n",
    "    YELLOW = '\\033[93m'\n",
    "    RED = '\\033[91m'\n",
    "    BOLD = '\\033[1m'\n",
    "    UNDERLINE = '\\033[4m'\n",
    "    END = '\\033[0m'\n",
    "\n",
    "print(color.GREEN + \"CRANFIELD SEARCH ENGINE\" + color.END)\n",
    "print(color.PURPLE + \"NLP Course Project by Emil Biju and Tony Fredrick\" + color.END)\n",
    "\n",
    "args.dataset=\"cranfield/\"\n",
    "args.out_folder='Output/'\n",
    "args.k=200\n",
    "display_limit=20\n",
    "args.preprocess=False\n",
    "args.custom=False\n",
    "args.query=\"\"\n",
    "\n",
    "@interact\n",
    "def get_model(segmenter=['punkt', 'naive']):\n",
    "    args.segmenter=segmenter\n",
    "    \n",
    "@interact\n",
    "def get_model(tokenizer=['ptb', 'naive']):\n",
    "    args.tokenizer=tokenizer\n",
    "\n",
    "@interact\n",
    "def get_model(model=['vector_space', 'glove_weighted_tfidf', 'lsa', 'lsa_glove_weighted', 'lsa_wordnet_weighted', 'glove', \n",
    "                     'glove_sentence_wise', 'univ_sentence_enc']):\n",
    "    args.model=model\n",
    "    \n",
    "custom = widgets.Button(description=\"Enter Custom Query\")\n",
    "output_custom = widgets.Output()\n",
    "\n",
    "text_k = widgets.Text(\n",
    "    value=\"200\",\n",
    "    placeholder='Enter k here!',\n",
    "    description='k',\n",
    "    disabled=False\n",
    ")\n",
    "\n",
    "display(text_k)\n",
    "def callback_k(wdgt):\n",
    "    # replace by something useful\n",
    "    args.k = int(text_k.value)\n",
    "\n",
    "text_k.on_submit(callback_k)\n",
    "\n",
    "def on_custom_clicked(b):\n",
    "  # Display the message within the output widget.\n",
    "    args.custom=True\n",
    "    print(\"Custom query mode activated!\")\n",
    "        \n",
    "custom.on_click(on_custom_clicked)\n",
    "display(custom, output_custom)\n",
    "\n",
    "\n",
    "preprocess = widgets.Button(description=\"Preprocess @ runtime\")\n",
    "output_preproc = widgets.Output()\n",
    "\n",
    "def on_preproc_clicked(b):\n",
    "  # Display the message within the output widget.\n",
    "    args.preprocess=True\n",
    "    with output_preproc:\n",
    "        print(\"Documents will be preprocessed at runtime\")\n",
    "\n",
    "preprocess.on_click(on_preproc_clicked)\n",
    "display(preprocess, output_preproc)"
   ]
  },
  {
   "cell_type": "code",
   "execution_count": null,
   "metadata": {},
   "outputs": [],
   "source": []
  },
  {
   "cell_type": "code",
   "execution_count": 2,
   "metadata": {
    "scrolled": false
   },
   "outputs": [
    {
     "name": "stdout",
     "output_type": "stream",
     "text": [
      "Enter your query here: flw solutions\n",
      "Time taken for spell check = 3.783886194229126 seconds.\n",
      "Did you mean: fl solutions? (y/n/enter a fresh query)\n",
      "flow solutions\n",
      "----------------------------------------------------------\n",
      "***Inverted index loaded from memory***\n",
      "Time taken to load the inverted index from memory: 0.14536809921264648 seconds\n",
      "----------------------------------------------------------\n",
      "\n",
      "Candidate queries for autocompletion:\n",
      "\n",
      "0 flow solutions (Your original query) \n",
      "\n",
      "1 what approximate solutions are known to the direct problem of transonic flow in the throat of a nozzle,  i.e. finding the flow in a given nozzle . (Query ID: 168) \n",
      "\n",
      "2 can the procedure of matching inner and outer solutions for a viscous flow problem be applied when the main stream is a shear flow . (Query ID: 66) \n",
      "\n",
      "3 what approximate solutions are known to the indirect problem of transonic flow in the throat of a nozzle,  i.e. finding a nozzle which has a given axial velocity distribution . (Query ID: 169) \n",
      "\n",
      "4 can a criterion be developed to show empirically the validity of flow solutions for chemically reacting gas mixtures based on the simplifying assumption of instantaneous local chemical equilibrium . (Query ID: 4) \n",
      "\n",
      "5 in the problem of the buckling strength of uniform circular cylinders loaded in axial compression,  does the linear solution help with improving the non-linear one . (Query ID: 195) \n",
      "\n",
      "Enter a query number for autocompletion. Hit 0 to proceed with your original query: 0\n",
      "----------------------------------------------------------\n",
      "Time taken to build the TF-IDF matrix = 0.14690899848937988 seconds\n",
      "Time taken to rank the documents using the Vector space model: 0.260498046875 seconds\n",
      "----------------------------------------------------------\n",
      "\n",
      "Top five documents retrieved : \n",
      "\n",
      "1182: an approximate solution for laminar boundary layer flow . this paper presents an approximate solution for two-dimensional, incompressible, laminar boundary layer flow with arbitrary pressure gradient . von mises' form of the boundary layer equation is linearized by making a change in the coefficient of one of the terms .  the linearized equation yields a solution that is accurate for the outer portion of the flow but inaccurate near the surface .  a separate inner solution then is developed which is accurate at the surface and which joins with the outer solution at some point within the boundary layer .  the method may be considered a major modification of one developed earlier by von karman and millikan, with changes in both outer and inner solutions, and the point at which the two solutions are joined .  the changes improve the accuracy of the method and in some respects simplify the calculations .  as examples, results are presented for flow with a linear variation of velocity (including flat plate and stagnation point flow as special cases), flow with sinusoidal variation of velocity, flow past a circular cylinder (heimenz' velocity distribution), and flow past an ellipse (schubauer's data) . agreement with theoretically exact solutions is good, and better than results obtained using the pohlhausen method . \n",
      "\n",
      "28: a note on the explosion solution of sedov with application to the newtonian theory of unsteady hypersonic flow . an exact analytical solution of the equations of inviscid compressible unsteady flow has been given by sedov (reference to the solution may be made through hayes and probstein) . this solution is the similarity solution for a constant-energy point explosion .  in view of the recent work on problems of hypersonic flow in the limiting form of the ratio of specific heats near 1 solution in this limit and inquire what form such a solution would take .  einbinder, in a recent note, has examined the solution for various but does not mention the interesting case of . it may be shown that the convergence to the limit is nonuniform over the flow field .  it is also not difficult to show that the non- uniform behavior exhibited here is that which one would expect from the newtonian formulation as derived in reference 3 . \n",
      "\n",
      "1370: some remarks on the flat plate boundary layer .   the authors discuss the solutions for the flow of a viscous incompressible fluid near the leading edge of a semi-infinite flat plate without pressure gradient .  the oseen linearization is employed which approximates the equations of motion and continuity by where are the coordinate directions, the corresponding velocity components and the uniform free stream velocity which is parallel to the plate .  defining a perturbation stream function by the differential equation to be solved is with boundary conditions far from the plate and when y=0 and .  the authors discuss the problem by applying the two-dimensional fourier transform and obtain an explicit solution for the velocity gradient at the plate which is in disagreement with the result of the blasius solution .  from this the authors conclude that it would be more appropriate to use a velocity other than in the linearization of the equations of motion and suggest replacing by where . this choice does not affect the solution far from the plate but gives on the plate and in comparison with blasius solution indicates that c=0.35 . the solution of the modified oseen equation with this value of c then seems acceptable as the approximate solution in the region intermediate between the stokes flow and the free stream .  on the basis of these considerations, the authors suggest an iteration procedure for obtaining the exact solution for the above problem as well as a solution for the plate of finite length . \n",
      "\n",
      "1083: an investigation of fluid flow in two dimensions . flow of an inviscid fluid . -dash there are in existence several methods  of obtaining numerical solutions to the two-dimensional flow of a perfect fluid for given boundary conditions . part 2 of the present paper gives a method of obtaining a numerical solution for viscous steady flow solution of the simpler problem, illustrating it with examples bearing on the experimental work described in part iv . \n",
      "\n",
      "1108: a study of second-order supersonic flow theory .   an attempt is made to develop a second approximation to the solution of problems of supersonic flow which can be solved by existing first-order theory .  the method of attack adopted is an iteration process using the linearized solution as the first step .   for plane flow it is found that a particular integral of the iteration equation can be written down at once in terms of the first-order solution .  the second-order problem is thereby reduced to an equivalent first-order problem and can be readily solved .  at the surface of an isolated body, the solution reduces to the well-known result of busemann .  the plane case is considered in some detail insofar as it gives insight into the nature of the iteration process .   again, for axially symmetric flow the problem is reduced to a first-order problem by the discovery of a particular integral . for smooth bodies, the second-order solution can then be calculated by the method of von karman and moore .  bodies with corners are also treated by a slight modification of the method .  the second-order solution for cones represents a considerable improvement over the linearized result . second-order theory also agrees well with several solutions for other bodies of revolution calculated by the numerical method of characteristics .   for full three-dimensional flow, only a partial particular integral has been found .  as an example of a more general problem, the solution is derived for an inclined cone .  the possibility of treating other inclined bodies of revolution and three-dimensional wings is discussed briefly . \n",
      "\n"
     ]
    }
   ],
   "source": [
    "if not 'main' in sys.modules:\n",
    "    import main\n",
    "else:\n",
    "    importlib.reload(main) \n",
    "from main import SearchEngine\n",
    "searchEngine= SearchEngine(args)\n",
    "# searchEngine.evaluate_autocomplete()\n",
    "if args.custom:\n",
    "    searchEngine.handleCustomQuery()\n",
    "else:\n",
    "    searchEngine.evaluateDataset() "
   ]
  },
  {
   "cell_type": "code",
   "execution_count": null,
   "metadata": {},
   "outputs": [],
   "source": []
  },
  {
   "cell_type": "code",
   "execution_count": null,
   "metadata": {},
   "outputs": [],
   "source": []
  },
  {
   "cell_type": "code",
   "execution_count": null,
   "metadata": {},
   "outputs": [],
   "source": []
  },
  {
   "cell_type": "code",
   "execution_count": null,
   "metadata": {},
   "outputs": [],
   "source": [
    "USE sent wise\n",
    "***Inverted index loaded from memory***\n",
    "Time taken to load the inverted index from memory: 0.10146212577819824 seconds\n",
    "----------------------------------------------------------\n",
    "USE model loaded successfully!\n",
    "Time taken to rank the documents using Universal Sentence Encoder: 195.63679599761963 seconds\n",
    "----------------------------------------------------------\n",
    "Precision, Recall and F-score @ 1 : 0.5155555555555555, 0.0854001739852314, 0.14111390361414264\n",
    "MAP, nDCG @ 1 : 0.5155555555555555, 0.4211111111111111\n",
    "Precision, Recall and F-score @ 2 : 0.3888888888888889, 0.1287151591949534, 0.18331512269990016\n",
    "MAP, nDCG @ 2 : 0.5577777777777778, 0.3655022034818588\n",
    "Precision, Recall and F-score @ 3 : 0.33629629629629626, 0.16125132940503578, 0.20418853184557972\n",
    "MAP, nDCG @ 3 : 0.5714814814814811, 0.3451787856753093\n",
    "Precision, Recall and F-score @ 4 : 0.29777777777777775, 0.1846201951072348, 0.21200777697556328\n",
    "MAP, nDCG @ 4 : 0.5712345679012345, 0.33386459992796536\n",
    "Precision, Recall and F-score @ 5 : 0.26666666666666694, 0.20673745694288762, 0.21592530210301103\n",
    "MAP, nDCG @ 5 : 0.5641234567901233, 0.3278963895653381\n",
    "Precision, Recall and F-score @ 6 : 0.24222222222222223, 0.21951708426431052, 0.21277145547613285\n",
    "MAP, nDCG @ 6 : 0.5576395061728396, 0.32471551865351594\n",
    "Precision, Recall and F-score @ 7 : 0.22222222222222238, 0.23461043801906767, 0.21063975502633955\n",
    "MAP, nDCG @ 7 : 0.5512068783068781, 0.3244590183533623\n",
    "Precision, Recall and F-score @ 8 : 0.20944444444444443, 0.25033326258309013, 0.21037173849775723\n",
    "MAP, nDCG @ 8 : 0.5446908289241621, 0.3262572731463288\n",
    "Precision, Recall and F-score @ 9 : 0.19555555555555548, 0.2623553580516466, 0.20685644898479016\n",
    "MAP, nDCG @ 9 : 0.5371231922398587, 0.32792991664174276\n",
    "Precision, Recall and F-score @ 10 : 0.18488888888888902, 0.2721715850345402, 0.20332048337034325\n",
    "MAP, nDCG @ 10 : 0.532211816578483, 0.3306166913589971\n",
    "Time taken to evaluate = 8.104618072509766 seconds"
   ]
  },
  {
   "cell_type": "code",
   "execution_count": null,
   "metadata": {},
   "outputs": [],
   "source": []
  },
  {
   "cell_type": "code",
   "execution_count": null,
   "metadata": {},
   "outputs": [],
   "source": []
  },
  {
   "cell_type": "code",
   "execution_count": null,
   "metadata": {},
   "outputs": [],
   "source": [
    "with normalization\n",
    "\n",
    "0 flow solutions (Your original query) \n",
    "\n",
    "1 previous solutions to the boundary layer similarity equations . (Query ID: 70) \n",
    "\n",
    "2 what approximate solutions are known to the direct problem of transonic flow in the throat of a nozzle,  i.e. finding the flow in a given nozzle . (Query ID: 168) \n",
    "\n",
    "3 can the procedure of matching inner and outer solutions for a viscous flow problem be applied when the main stream is a shear flow . (Query ID: 66) \n",
    "\n",
    "4 what is known regarding asymptotic solutions to the exact boundary layer equations . (Query ID: 69) \n",
    "\n",
    "5 what general solutions for the stresses in pressurized shells of revolution are available . (Query ID: 143) "
   ]
  },
  {
   "cell_type": "code",
   "execution_count": null,
   "metadata": {},
   "outputs": [],
   "source": [
    "no normlalization\n",
    "0 flow solutions (Your original query) \n",
    "\n",
    "1 what approximate solutions are known to the direct problem of transonic flow in the throat of a nozzle,  i.e. finding the flow in a given nozzle . (Query ID: 168) \n",
    "\n",
    "2 can the procedure of matching inner and outer solutions for a viscous flow problem be applied when the main stream is a shear flow . (Query ID: 66) \n",
    "\n",
    "3 what approximate solutions are known to the indirect problem of transonic flow in the throat of a nozzle,  i.e. finding a nozzle which has a given axial velocity distribution . (Query ID: 169) \n",
    "\n",
    "4 can a criterion be developed to show empirically the validity of flow solutions for chemically reacting gas mixtures based on the simplifying assumption of instantaneous local chemical equilibrium . (Query ID: 4) \n",
    "\n",
    "5 in the problem of the buckling strength of uniform circular cylinders loaded in axial compression,  does the linear solution help with improving the non-linear one . (Query ID: 195) "
   ]
  },
  {
   "cell_type": "code",
   "execution_count": null,
   "metadata": {},
   "outputs": [],
   "source": []
  },
  {
   "cell_type": "code",
   "execution_count": null,
   "metadata": {},
   "outputs": [],
   "source": [
    "0 flow solutions (Your original query) \n",
    "\n",
    "1 previous solutions to the boundary layer similarity equations . (Query ID: 70) \n",
    "\n",
    "2 solution of the blasius problem with three-point boundary conditions . (Query ID: 172) \n",
    "\n",
    "3 what general solutions for the stresses in pressurized shells of revolution are available . (Query ID: 143) \n",
    "\n",
    "4 what analytical solutions are available for stresses in edge-loaded shells of revolution . (Query ID: 141) \n",
    "\n",
    "5 can the procedure of matching inner and outer solutions for a viscous flow problem be applied when the main stream is a shear flow . (Query ID: 66) \n",
    "\n",
    "\n",
    "\n",
    "\n",
    "\n",
    "\n",
    "\n",
    "\n",
    "0 laminar boundary (Your original query) \n",
    "\n",
    "1 what are the physical significance and characteristics of separated laminar and turbulent boundary layer flows . (Query ID: 209) \n",
    "\n",
    "2 has anyone investigated theoretically whether surface flexibility can stabilize a laminar boundary layer . (Query ID: 205) \n",
    "\n",
    "3 what is a single approximate formula for the displacement thickness of a laminar boundary layer in compressible flow on a flat plate . (Query ID: 26) \n",
    "\n",
    "4 find a calculation procedure applicable to all incompressible laminar boundary layer flow problems having good accuracy and reasonable computation time . (Query ID: 220) \n",
    "\n",
    "5 what accurate or exact solutions of the laminar separation point for various incompressible and compressible boundary layers with zero heat transfer are available . (Query ID: 162) "
   ]
  },
  {
   "cell_type": "code",
   "execution_count": null,
   "metadata": {},
   "outputs": [],
   "source": []
  },
  {
   "cell_type": "code",
   "execution_count": null,
   "metadata": {},
   "outputs": [],
   "source": [
    "Precision, Recall and F-score @ 1 : 0.6711111111111111, 0.10766380573245449, 0.17813631673975494\n",
    "MAP, nDCG @ 1 : 0.6711111111111111, 0.5244444444444445\n",
    "Precision, Recall and F-score @ 2 : 0.5644444444444444, 0.18232303161913146, 0.2590092014035358\n",
    "MAP, nDCG @ 2 : 0.7066666666666667, 0.48890736739973806\n",
    "Precision, Recall and F-score @ 3 : 0.48740740740740734, 0.23013982062944038, 0.2909316029191042\n",
    "MAP, nDCG @ 3 : 0.7085185185185185, 0.46214576345013403\n",
    "Precision, Recall and F-score @ 4 : 0.44222222222222224, 0.2721660986361105, 0.31276399228051993\n",
    "MAP, nDCG @ 4 : 0.6986419753086421, 0.4534930468093099\n",
    "Precision, Recall and F-score @ 5 : 0.40000000000000013, 0.3018506797671527, 0.3186186955710087\n",
    "MAP, nDCG @ 5 : 0.6915740740740742, 0.4459713427361913\n",
    "Precision, Recall and F-score @ 6 : 0.37333333333333346, 0.33115019079877994, 0.3251711721078297\n",
    "MAP, nDCG @ 6 : 0.6788827160493829, 0.44946875628455524\n",
    "Precision, Recall and F-score @ 7 : 0.3434920634920637, 0.3501742988746122, 0.32141993660361\n",
    "MAP, nDCG @ 7 : 0.6683245149911818, 0.4498393105115993\n",
    "Precision, Recall and F-score @ 8 : 0.3227777777777778, 0.3733769128909517, 0.32096536680643517\n",
    "MAP, nDCG @ 8 : 0.6605954144620811, 0.4538090348016417\n",
    "Precision, Recall and F-score @ 9 : 0.303703703703704, 0.39405691144607957, 0.3185757746244974\n",
    "MAP, nDCG @ 9 : 0.6500589254220206, 0.4580836168590858\n",
    "Precision, Recall and F-score @ 10 : 0.28577777777777796, 0.41164803892226454, 0.31322232617744145\n",
    "MAP, nDCG @ 10 : 0.6409280059348841, 0.46213809247875337\n",
    "Time taken to evaluate = 8.865531921386719 seconds"
   ]
  },
  {
   "cell_type": "code",
   "execution_count": null,
   "metadata": {},
   "outputs": [],
   "source": []
  },
  {
   "cell_type": "code",
   "execution_count": null,
   "metadata": {},
   "outputs": [],
   "source": []
  },
  {
   "cell_type": "code",
   "execution_count": 8,
   "metadata": {},
   "outputs": [],
   "source": [
    "import numpy as np\n",
    "sing_vals = np.load('/Users/emilbiju/Google Drive (ee17b071@smail.iitm.ac.in)/NLP2021_Project/Py_final_code/EE17B071_EE17B154_code/IntermediateResults/Singular_values.npy')"
   ]
  },
  {
   "cell_type": "code",
   "execution_count": 9,
   "metadata": {},
   "outputs": [
    {
     "data": {
      "text/plain": [
       "(1398,)"
      ]
     },
     "execution_count": 9,
     "metadata": {},
     "output_type": "execute_result"
    }
   ],
   "source": [
    "sing_vals.shape"
   ]
  },
  {
   "cell_type": "code",
   "execution_count": 10,
   "metadata": {},
   "outputs": [
    {
     "data": {
      "image/png": "[encoded data removed]",
      "text/plain": [
       "<Figure size 432x288 with 1 Axes>"
      ]
     },
     "metadata": {
      "needs_background": "light"
     },
     "output_type": "display_data"
    }
   ],
   "source": [
    "import matplotlib.pyplot as plt\n",
    "%matplotlib inline\n",
    "plt.plot(sing_vals)\n",
    "plt.title(\"Plot of Singular values\")\n",
    "plt.xlabel(\"Component number\")\n",
    "plt.ylabel(\"Singular value\")\n",
    "plt.grid(True)\n",
    "plt.savefig(\"nlp_1.pdf\", bbox_inches='tight')"
   ]
  },
  {
   "cell_type": "code",
   "execution_count": 11,
   "metadata": {},
   "outputs": [
    {
     "data": {
      "image/png": "[encoded data removed]",
      "text/plain": [
       "<Figure size 432x288 with 1 Axes>"
      ]
     },
     "metadata": {
      "needs_background": "light"
     },
     "output_type": "display_data"
    }
   ],
   "source": [
    "import matplotlib.pyplot as plt\n",
    "%matplotlib inline\n",
    "plt.plot(np.cumsum(np.square(sing_vals)/np.sum(np.square(sing_vals))))\n",
    "plt.title(\"Plot of Cumulative Variance\")\n",
    "plt.xlabel(\"Number of components\")\n",
    "plt.ylabel(\"Variance Contribution\")\n",
    "plt.grid(True)\n",
    "plt.axhline(y=0.5, color='r', linestyle='-')\n",
    "plt.savefig(\"nlp_2.pdf\", bbox_inches='tight')"
   ]
  },
  {
   "cell_type": "code",
   "execution_count": 26,
   "metadata": {},
   "outputs": [
    {
     "data": {
      "image/png": "[encoded data removed]",
      "text/plain": [
       "<Figure size 432x288 with 1 Axes>"
      ]
     },
     "metadata": {
      "needs_background": "light"
     },
     "output_type": "display_data"
    }
   ],
   "source": [
    "prec_arr = np.array([0.24888888888888888, 0.47555555555555556, 0.6311111111111111, 0.6711111111111111, 0.6222222222222222,0.5822222222222222,0.49777777777777776])\n",
    "map_arr = np.array([0.34010076635592495, 0.5286242539402594, 0.6157265159150079, 0.6409280059348841, 0.6247981985386742, 0.5869698286722098,0.5301340094062313])\n",
    "prec_10_arr = np.array([0.1808888888888889,0.2573333333333334,0.2831111111111112,0.28577777777777796,0.26044444444444453,0.22222222222222238,0.18177777777777795])\n",
    "rec_arr = np.array([0.03973415038120919, 0.07809648508154253, 0.1039047645786765, 0.10766380573245449, 0.10518877697236825, 0.09813280690671881, 0.08982621091126836])\n",
    "rec_10_arr = np.array([0.2567016746337092,0.37323148349501506,0.4071538180111186,0.41164803892226454,0.37998777326199856,0.323942339127461,0.264715369593246])\n",
    "plt.plot(prec_arr, label=\"Precision @ 1\")\n",
    "plt.plot(prec_10_arr, label=\"Precision @ 10\")\n",
    "plt.plot(rec_arr, label=\"Recall @ 1\")\n",
    "plt.plot(rec_10_arr, label=\"Recall @ 10\")\n",
    "plt.xticks([0,1,2,3,4,5,6,7],[10,50,100,200,400,800,1200])\n",
    "plt.xlim([-0.2,6.2])\n",
    "plt.title(\"IR evaluation-based comparison with k for LSA\")\n",
    "plt.xlabel(\"k\")\n",
    "plt.ylabel(\"Evaluation metric\")\n",
    "plt.grid(True)\n",
    "plt.legend(loc='lower left')\n",
    "plt.savefig(\"nlp_3.pdf\", bbox_inches='tight')"
   ]
  },
  {
   "cell_type": "code",
   "execution_count": 13,
   "metadata": {},
   "outputs": [
    {
     "ename": "SyntaxError",
     "evalue": "invalid syntax (<ipython-input-13-6052bc9aa5e1>, line 2)",
     "output_type": "error",
     "traceback": [
      "\u001b[0;36m  File \u001b[0;32m\"<ipython-input-13-6052bc9aa5e1>\"\u001b[0;36m, line \u001b[0;32m2\u001b[0m\n\u001b[0;31m    Time taken to do SVD = 11.778558015823364 seconds\u001b[0m\n\u001b[0m             ^\u001b[0m\n\u001b[0;31mSyntaxError\u001b[0m\u001b[0;31m:\u001b[0m invalid syntax\n"
     ]
    }
   ],
   "source": [
    "10\n",
    "Time taken to do SVD = 11.778558015823364 seconds\n",
    "Time taken to rank the documents using LSA: 54.55981183052063 seconds\n",
    "Precision, Recall and F-score @ 1 : 0.24888888888888888, 0.03973415038120919, 0.066096862557886\n",
    "MAP, nDCG @ 1 : 0.24888888888888888, 0.17666666666666667\n",
    "Precision, Recall and F-score @ 10 : 0.1808888888888889, 0.2567016746337092, 0.19806882409989873\n",
    "MAP, nDCG @ 10 : 0.34010076635592495, 0.23802592599723293\n",
    "Time taken to evaluate = 6.98173713684082 seconds\n",
    "\n",
    "50\n",
    "Time taken to load SVD results = 4.512508153915405 seconds\n",
    "Time taken to rank the documents using LSA: 16.45491886138916 seconds\n",
    "Precision, Recall and F-score @ 1 : 0.47555555555555556, 0.07809648508154253, 0.128835482943842\n",
    "MAP, nDCG @ 1 : 0.47555555555555556, 0.3622222222222222\n",
    "Precision, Recall and F-score @ 10 : 0.2573333333333334, 0.37323148349501506, 0.28361252258262376\n",
    "MAP, nDCG @ 10 : 0.5286242539402594, 0.38492541868651264\n",
    "\n",
    "100\n",
    "Time taken to load SVD results = 4.5370402336120605 seconds\n",
    "Time taken to rank the documents using LSA: 17.25211215019226 seconds\n",
    "Precision, Recall and F-score @ 1 : 0.6311111111111111, 0.1039047645786765, 0.1713694386491083\n",
    "MAP, nDCG @ 1 : 0.6311111111111111, 0.5\n",
    "Precision, Recall and F-score @ 10 : 0.2831111111111112, 0.4071538180111186, 0.3103759691741526\n",
    "MAP, nDCG @ 10 : 0.6157265159150079, 0.4511924052750425\n",
    "\n",
    "\n",
    "200\n",
    "Precision, Recall and F-score @ 1 : 0.6711111111111111, 0.10766380573245449, 0.17813631673975494\n",
    "MAP, nDCG @ 1 : 0.6711111111111111, 0.5244444444444445\n",
    "Precision, Recall and F-score @ 10 : 0.28577777777777796, 0.41164803892226454, 0.31322232617744145\n",
    "MAP, nDCG @ 10 : 0.6409280059348841, 0.46213809247875337\n",
    "    \n",
    "400\n",
    "Time taken to load SVD results = 4.761127233505249 seconds\n",
    "Time taken to rank the documents using LSA: 25.1976158618927 seconds\n",
    "Precision, Recall and F-score @ 1 : 0.6222222222222222, 0.10518877697236825, 0.17282729035670208\n",
    "MAP, nDCG @ 1 : 0.6222222222222222, 0.5044444444444445\n",
    "Precision, Recall and F-score @ 10 : 0.26044444444444453, 0.37998777326199856, 0.2860623987227776\n",
    "MAP, nDCG @ 10 : 0.6247981985386742, 0.43672970971101704\n",
    "\n",
    "800\n",
    "Time taken to load SVD results = 4.4721519947052 seconds\n",
    "Time taken to rank the documents using LSA: 29.505162954330444 seconds\n",
    "Precision, Recall and F-score @ 1 : 0.5822222222222222, 0.09813280690671881, 0.1615357366830346\n",
    "MAP, nDCG @ 1 : 0.5822222222222222, 0.4711111111111111\n",
    "Precision, Recall and F-score @ 10 : 0.22222222222222238, 0.323942339127461, 0.24347886005690805\n",
    "MAP, nDCG @ 10 : 0.5869698286722098, 0.3811910853753262\n",
    "    \n",
    "\n",
    "1200\n",
    "Time taken to load SVD results = 4.9876768589019775 seconds\n",
    "Time taken to rank the documents using LSA: 47.49492883682251 seconds\n",
    "Precision, Recall and F-score @ 1 : 0.49777777777777776, 0.08982621091126836, 0.14670081924027398\n",
    "MAP, nDCG @ 1 : 0.49777777777777776, 0.40444444444444444\n",
    "Precision, Recall and F-score @ 10 : 0.18177777777777795, 0.264715369593246, 0.19835126028557726\n",
    "MAP, nDCG @ 10 : 0.5301340094062313, 0.3198885071753587"
   ]
  },
  {
   "cell_type": "code",
   "execution_count": null,
   "metadata": {},
   "outputs": [],
   "source": []
  },
  {
   "cell_type": "code",
   "execution_count": null,
   "metadata": {},
   "outputs": [],
   "source": []
  },
  {
   "cell_type": "code",
   "execution_count": null,
   "metadata": {},
   "outputs": [],
   "source": [
    "Time taken to preprocess queries: 2.9574379920959473 seconds\n",
    "----------------------------------------------------------\n",
    "Time taken to segment sentences = 0.5791921615600586 s\n",
    "Time taken to tokenize = 1.5343031883239746 s\n",
    "Time taken to do inflection reduction = 24.70096206665039 s\n",
    "Time taken to remove stopwords = 1.2398571968078613 s\n",
    "Time taken to preprocess documents: 28.082806825637817 seconds\n",
    "----------------------------------------------------------\n",
    "***Inverted index built and saved at runtime***\n",
    "Time taken to build and save the inverted index: 1.004967212677002 seconds\n",
    "----------------------------------------------------------\n",
    "Time taken to build the TF-IDF matrix in LSA = 0.18627572059631348 seconds\n",
    "Number of latent dimensions used = 200\n",
    "Calculating SVD at run-time.\n",
    "Time taken to do SVD = 19.23528504371643 seconds\n",
    "Time taken to rank the documents using LSA: 60.42736291885376 seconds"
   ]
  },
  {
   "cell_type": "code",
   "execution_count": null,
   "metadata": {},
   "outputs": [],
   "source": []
  },
  {
   "cell_type": "code",
   "execution_count": null,
   "metadata": {},
   "outputs": [],
   "source": [
    "Number of latent dimensions used = 200\n",
    "Found SVD results stored in the folder.\n",
    "Time taken to rank the documents using LSA: 20.077213048934937 seconds\n",
    "----------------------------------------------------------\n",
    "Precision, Recall and F-score @ 1 : 0.6711111111111111, 0.10766380573245449, 0.17813631673975494\n",
    "MAP, nDCG @ 1 : 0.6711111111111111, 0.5244444444444445\n",
    "Precision, Recall and F-score @ 2 : 0.5644444444444444, 0.18232303161913146, 0.2590092014035358\n",
    "MAP, nDCG @ 2 : 0.7066666666666667, 0.48890736739973806\n",
    "Precision, Recall and F-score @ 3 : 0.48740740740740734, 0.23013982062944038, 0.2909316029191042\n",
    "MAP, nDCG @ 3 : 0.7085185185185185, 0.46214576345013403\n",
    "Precision, Recall and F-score @ 4 : 0.44222222222222224, 0.2721660986361105, 0.31276399228051993\n",
    "MAP, nDCG @ 4 : 0.6986419753086421, 0.4534930468093099\n",
    "Precision, Recall and F-score @ 5 : 0.40000000000000013, 0.3018506797671527, 0.3186186955710087\n",
    "MAP, nDCG @ 5 : 0.6915740740740742, 0.4459713427361913\n",
    "Precision, Recall and F-score @ 6 : 0.37333333333333346, 0.33115019079877994, 0.3251711721078297\n",
    "MAP, nDCG @ 6 : 0.6788827160493829, 0.44946875628455524\n",
    "Precision, Recall and F-score @ 7 : 0.3434920634920637, 0.3501742988746122, 0.32141993660361\n",
    "MAP, nDCG @ 7 : 0.6683245149911818, 0.4498393105115993\n",
    "Precision, Recall and F-score @ 8 : 0.3227777777777778, 0.3733769128909517, 0.32096536680643517\n",
    "MAP, nDCG @ 8 : 0.6605954144620811, 0.4538090348016417\n",
    "Precision, Recall and F-score @ 9 : 0.303703703703704, 0.39405691144607957, 0.3185757746244974\n",
    "MAP, nDCG @ 9 : 0.6500589254220206, 0.4580836168590858\n",
    "Precision, Recall and F-score @ 10 : 0.28577777777777796, 0.41164803892226454, 0.31322232617744145\n",
    "MAP, nDCG @ 10 : 0.6409280059348841, 0.46213809247875337\n",
    "Time taken to evaluate = 6.960665941238403 seconds"
   ]
  },
  {
   "cell_type": "code",
   "execution_count": null,
   "metadata": {},
   "outputs": [],
   "source": []
  },
  {
   "cell_type": "code",
   "execution_count": null,
   "metadata": {},
   "outputs": [],
   "source": []
  },
  {
   "cell_type": "code",
   "execution_count": null,
   "metadata": {},
   "outputs": [],
   "source": []
  },
  {
   "cell_type": "code",
   "execution_count": null,
   "metadata": {},
   "outputs": [],
   "source": [
    "0.9\n",
    "\n",
    "Precision, Recall and F-score @ 1 : 0.5955555555555555, 0.10153919850464808, 0.16715903268844437\n",
    "MAP, nDCG @ 1 : 0.5955555555555555, 0.4855555555555556\n",
    "Precision, Recall and F-score @ 2 : 0.49333333333333335, 0.16206082780986877, 0.22974901854342178\n",
    "MAP, nDCG @ 2 : 0.6377777777777778, 0.4465734005356111\n",
    "Precision, Recall and F-score @ 3 : 0.437037037037037, 0.20864005133555338, 0.2635573422354953\n",
    "MAP, nDCG @ 3 : 0.6507407407407408, 0.4234317002952081\n",
    "Precision, Recall and F-score @ 4 : 0.3933333333333333, 0.24283302199397358, 0.27830301416736575\n",
    "MAP, nDCG @ 4 : 0.6483950617283949, 0.41377775930032124\n",
    "Precision, Recall and F-score @ 5 : 0.3537777777777781, 0.2680866079142263, 0.28258082872110774\n",
    "MAP, nDCG @ 5 : 0.6437901234567901, 0.40580348813341316\n",
    "Precision, Recall and F-score @ 6 : 0.3318518518518518, 0.2984259725333853, 0.29060083357962896\n",
    "MAP, nDCG @ 6 : 0.6367407407407407, 0.4097841284076617\n",
    "Precision, Recall and F-score @ 7 : 0.3098412698412699, 0.318776013476946, 0.29077112462603855\n",
    "MAP, nDCG @ 7 : 0.6237467372134038, 0.41117558249043323\n",
    "Precision, Recall and F-score @ 8 : 0.2827777777777778, 0.3297868532544525, 0.28187069503089596\n",
    "MAP, nDCG @ 8 : 0.6187013101536912, 0.410503721660544\n",
    "Precision, Recall and F-score @ 9 : 0.2637037037037039, 0.3428846975803668, 0.2763575843621133\n",
    "MAP, nDCG @ 9 : 0.6162360922146637, 0.4140725893235317\n",
    "Precision, Recall and F-score @ 10 : 0.25066666666666687, 0.3604382181338874, 0.274595285304007\n",
    "MAP, nDCG @ 10 : 0.6014670319979843, 0.4179697805575174"
   ]
  },
  {
   "cell_type": "code",
   "execution_count": null,
   "metadata": {},
   "outputs": [],
   "source": []
  },
  {
   "cell_type": "code",
   "execution_count": null,
   "metadata": {},
   "outputs": [],
   "source": [
    "Precision, Recall and F-score @ 2 : 0.4888888888888889, 0.1603222034712444, 0.22754325722654936\n",
    "MAP, nDCG @ 2 : 0.6311111111111111, 0.4411072692855834\n",
    "Precision, Recall and F-score @ 3 : 0.43259259259259253, 0.2066294693249713, 0.26079191013672987\n",
    "MAP, nDCG @ 3 : 0.644814814814815, 0.4187610330678166\n",
    "Precision, Recall and F-score @ 4 : 0.39222222222222225, 0.2410076251685768, 0.27671330757765916\n",
    "MAP, nDCG @ 4 : 0.6419753086419754, 0.41100896613302573\n",
    "Precision, Recall and F-score @ 5 : 0.3537777777777781, 0.2671254086196937, 0.2819532500543134\n",
    "MAP, nDCG @ 5 : 0.6397407407407408, 0.40377085380949185\n",
    "Precision, Recall and F-score @ 6 : 0.331111111111111, 0.29731662509070456, 0.28965274463154\n",
    "MAP, nDCG @ 6 : 0.6332962962962964, 0.40752666326987397\n",
    "Precision, Recall and F-score @ 7 : 0.30730158730158746, 0.3157971774981101, 0.28803445388936777\n",
    "MAP, nDCG @ 7 : 0.620372839506173, 0.4077632159121053\n",
    "Precision, Recall and F-score @ 8 : 0.2822222222222222, 0.32893147406573997, 0.2811713486256672\n",
    "MAP, nDCG @ 8 : 0.6142533383723862, 0.40821904934117165\n",
    "Precision, Recall and F-score @ 9 : 0.2637037037037039, 0.34252314555214813, 0.2762014478334277\n",
    "MAP, nDCG @ 9 : 0.6119115772234822, 0.412052335368136\n",
    "Precision, Recall and F-score @ 10 : 0.24933333333333352, 0.3585334562291255, 0.2730266578530266\n",
    "MAP, nDCG @ 10 : 0.5981504535147393, 0.41538551144667574"
   ]
  },
  {
   "cell_type": "code",
   "execution_count": null,
   "metadata": {},
   "outputs": [],
   "source": []
  },
  {
   "cell_type": "code",
   "execution_count": null,
   "metadata": {},
   "outputs": [],
   "source": []
  },
  {
   "cell_type": "code",
   "execution_count": null,
   "metadata": {},
   "outputs": [],
   "source": []
  },
  {
   "cell_type": "code",
   "execution_count": null,
   "metadata": {},
   "outputs": [],
   "source": [
    "1500\n",
    "\n",
    "Precision, Recall and F-score @ 1 : 0.6622222222222223, 0.11254294842212344, 0.18514498708175864\n",
    "MAP, nDCG @ 1 : 0.6622222222222223, 0.5355555555555556\n",
    "Precision, Recall and F-score @ 2 : 0.5555555555555556, 0.18322128957033057, 0.25889853980405403\n",
    "MAP, nDCG @ 2 : 0.7111111111111111, 0.4936105904448212\n",
    "Precision, Recall and F-score @ 3 : 0.4844444444444445, 0.23106211133800553, 0.29081824650323956\n",
    "MAP, nDCG @ 3 : 0.7151851851851851, 0.46400805242729776\n",
    "Precision, Recall and F-score @ 4 : 0.43333333333333335, 0.26748788622923, 0.30584753648200286\n",
    "MAP, nDCG @ 4 : 0.7053086419753087, 0.45174872060949567\n",
    "Precision, Recall and F-score @ 5 : 0.3911111111111113, 0.29597453102960036, 0.3112288122898973\n",
    "MAP, nDCG @ 5 : 0.6964691358024689, 0.4433391490030031\n",
    "Precision, Recall and F-score @ 6 : 0.3666666666666665, 0.32814458347944714, 0.31978818618301813\n",
    "MAP, nDCG @ 6 : 0.6903716049382714, 0.44756029488142063\n",
    "Precision, Recall and F-score @ 7 : 0.3415873015873017, 0.34963199816038165, 0.3192198027061463\n",
    "MAP, nDCG @ 7 : 0.6787329805996472, 0.4484336703812822\n",
    "Precision, Recall and F-score @ 8 : 0.31444444444444447, 0.36243459194803285, 0.3108593330114037\n",
    "MAP, nDCG @ 8 : 0.6670517510707985, 0.4489309820982525\n",
    "Precision, Recall and F-score @ 9 : 0.2962962962962965, 0.3825799484071148, 0.3089026877532023\n",
    "MAP, nDCG @ 9 : 0.6603001133786846, 0.4550506366671325\n",
    "Precision, Recall and F-score @ 10 : 0.2768888888888891, 0.3943665052550753, 0.3012717590111144\n",
    "MAP, nDCG @ 10 : 0.6492618753674305, 0.45655449570406886"
   ]
  },
  {
   "cell_type": "code",
   "execution_count": null,
   "metadata": {},
   "outputs": [],
   "source": [
    "Precision, Recall and F-score @ 1 : 0.6577777777777778, 0.11106146694064196, 0.18292276485953643\n",
    "MAP, nDCG @ 1 : 0.6577777777777778, 0.5311111111111111\n",
    "Precision, Recall and F-score @ 2 : 0.5555555555555556, 0.18322128957033057, 0.25889853980405403\n",
    "MAP, nDCG @ 2 : 0.7088888888888889, 0.4924971535756058\n",
    "Precision, Recall and F-score @ 3 : 0.48296296296296304, 0.23017322244911662, 0.28970713539212845\n",
    "MAP, nDCG @ 3 : 0.7129629629629629, 0.4629475741243986\n",
    "Precision, Recall and F-score @ 4 : 0.43333333333333335, 0.26723391797526175, 0.3056679629690961\n",
    "MAP, nDCG @ 4 : 0.7030864197530865, 0.45074885792647906\n",
    "Precision, Recall and F-score @ 5 : 0.3920000000000001, 0.29612778773458115, 0.31149025019839405\n",
    "MAP, nDCG @ 5 : 0.6949814814814812, 0.44306905921880235\n",
    "Precision, Recall and F-score @ 6 : 0.36592592592592577, 0.32792236125722496, 0.31944630584113776\n",
    "MAP, nDCG @ 6 : 0.6889827160493824, 0.44598474811479866\n",
    "Precision, Recall and F-score @ 7 : 0.3415873015873017, 0.3492952978236813, 0.3190298691828794\n",
    "MAP, nDCG @ 7 : 0.6749864197530862, 0.44730835829265286\n",
    "Precision, Recall and F-score @ 8 : 0.31444444444444447, 0.362640941154382, 0.3110076414930456\n",
    "MAP, nDCG @ 8 : 0.6649891408415215, 0.4479577423193222\n",
    "Precision, Recall and F-score @ 9 : 0.2967901234567903, 0.3835781847386845, 0.3095541010628917\n",
    "MAP, nDCG @ 9 : 0.6589538548752832, 0.45417322122687565\n",
    "Precision, Recall and F-score @ 10 : 0.27733333333333354, 0.3962165217103548, 0.3021672534698274\n",
    "MAP, nDCG @ 10 : 0.6478200764256316, 0.45624242783979296\n",
    "Time taken to evaluate = 6.712275981903076 seconds"
   ]
  },
  {
   "cell_type": "code",
   "execution_count": null,
   "metadata": {},
   "outputs": [],
   "source": [
    "self.V\n",
    "\n",
    "Precision, Recall and F-score @ 1 : 0.6622222222222223, 0.11254294842212344, 0.18514498708175864\n",
    "MAP, nDCG @ 1 : 0.6622222222222223, 0.5355555555555556\n",
    "Precision, Recall and F-score @ 2 : 0.5555555555555556, 0.18373980808884904, 0.2595334604389747\n",
    "MAP, nDCG @ 2 : 0.7088888888888889, 0.4948540780297198\n",
    "Precision, Recall and F-score @ 3 : 0.4874074074074075, 0.2323584076343018, 0.29261398163230806\n",
    "MAP, nDCG @ 3 : 0.7137037037037037, 0.46530217539441526\n",
    "Precision, Recall and F-score @ 4 : 0.43555555555555553, 0.2679534946948384, 0.3067104344677079\n",
    "MAP, nDCG @ 4 : 0.707530864197531, 0.4532237873562653\n",
    "Precision, Recall and F-score @ 5 : 0.3902222222222224, 0.2950856421407114, 0.31033992340100836\n",
    "MAP, nDCG @ 5 : 0.6993580246913579, 0.4433516117961978\n",
    "Precision, Recall and F-score @ 6 : 0.36444444444444424, 0.32638091504911215, 0.31783503645209066\n",
    "MAP, nDCG @ 6 : 0.6924074074074072, 0.4466614728285158\n",
    "Precision, Recall and F-score @ 7 : 0.3415873015873017, 0.34963199816038165, 0.3192198027061463\n",
    "MAP, nDCG @ 7 : 0.6795871252204585, 0.4489919635640776\n",
    "Precision, Recall and F-score @ 8 : 0.3138888888888889, 0.3627754337371505, 0.31091731306938375\n",
    "MAP, nDCG @ 8 : 0.6676125976316453, 0.4495426646799336\n",
    "Precision, Recall and F-score @ 9 : 0.29580246913580266, 0.3821050542752334, 0.30846335412501413\n",
    "MAP, nDCG @ 9 : 0.660492441421013, 0.45562331459696703\n",
    "Precision, Recall and F-score @ 10 : 0.27733333333333354, 0.3948137776506235, 0.3017218401923784\n",
    "MAP, nDCG @ 10 : 0.6487493533215755, 0.4569745087760134\n",
    "Time taken to evaluate = 7.689490795135498 seconds"
   ]
  },
  {
   "cell_type": "code",
   "execution_count": 4,
   "metadata": {},
   "outputs": [
    {
     "data": {
      "text/plain": [
       "(634, 360, 284, 11, 753)"
      ]
     },
     "execution_count": 4,
     "metadata": {},
     "output_type": "execute_result"
    }
   ],
   "source": [
    "634,360,284,11,753"
   ]
  },
  {
   "cell_type": "code",
   "execution_count": null,
   "metadata": {},
   "outputs": [],
   "source": []
  },
  {
   "cell_type": "code",
   "execution_count": null,
   "metadata": {},
   "outputs": [],
   "source": []
  },
  {
   "cell_type": "code",
   "execution_count": null,
   "metadata": {},
   "outputs": [],
   "source": []
  },
  {
   "cell_type": "code",
   "execution_count": null,
   "metadata": {},
   "outputs": [],
   "source": []
  },
  {
   "cell_type": "code",
   "execution_count": null,
   "metadata": {},
   "outputs": [],
   "source": []
  },
  {
   "cell_type": "code",
   "execution_count": null,
   "metadata": {},
   "outputs": [],
   "source": [
    "Precision, Recall and F-score @ 1 : 0.6622222222222223, 0.11254294842212344, 0.18514498708175864\n",
    "MAP, nDCG @ 1 : 0.6622222222222223, 0.5344444444444445\n",
    "Precision, Recall and F-score @ 2 : 0.5555555555555556, 0.18373980808884904, 0.2595334604389747\n",
    "MAP, nDCG @ 2 : 0.7088888888888889, 0.49457571881241597\n",
    "Precision, Recall and F-score @ 3 : 0.4888888888888889, 0.23299332826922245, 0.29350287052119695\n",
    "MAP, nDCG @ 3 : 0.7129629629629629, 0.4658463315055048\n",
    "Precision, Recall and F-score @ 4 : 0.43555555555555553, 0.26808047882182257, 0.30685152794213466\n",
    "MAP, nDCG @ 4 : 0.7079012345679012, 0.4531825935944939\n",
    "Precision, Recall and F-score @ 5 : 0.3893333333333336, 0.2930115680666374, 0.30900659006767506\n",
    "MAP, nDCG @ 5 : 0.7032839506172838, 0.44286597409079403\n",
    "Precision, Recall and F-score @ 6 : 0.365185185185185, 0.3268747422096059, 0.3184276290446833\n",
    "MAP, nDCG @ 6 : 0.6929259259259258, 0.44669489463689027\n",
    "Precision, Recall and F-score @ 7 : 0.342857142857143, 0.35024575477413833, 0.3200471235334671\n",
    "MAP, nDCG @ 7 : 0.6783652557319222, 0.4494063340982171\n",
    "Precision, Recall and F-score @ 8 : 0.31444444444444447, 0.3634103543720711, 0.31150990566197645\n",
    "MAP, nDCG @ 8 : 0.6679494583018392, 0.44977934288864413\n",
    "Precision, Recall and F-score @ 9 : 0.294814814814815, 0.38017912834930745, 0.3072547771269635\n",
    "MAP, nDCG @ 9 : 0.6618182791635173, 0.45465068673217013\n",
    "Precision, Recall and F-score @ 10 : 0.2782222222222224, 0.3964927899963025, 0.3028933801533921\n",
    "MAP, nDCG @ 10 : 0.6470173049466699, 0.4577427308749137"
   ]
  },
  {
   "cell_type": "code",
   "execution_count": null,
   "metadata": {},
   "outputs": [],
   "source": []
  },
  {
   "cell_type": "code",
   "execution_count": 4,
   "metadata": {
    "scrolled": true
   },
   "outputs": [
    {
     "data": {
      "text/plain": [
       "array([-3.2597e-01, -3.4180e-01,  3.3624e-01,  1.7565e-02,  2.8990e-01,\n",
       "        1.0606e-02, -6.2241e-01, -3.8753e-02, -5.9180e-02, -1.5329e+00,\n",
       "        7.4651e-01, -4.9419e-01, -9.2657e-01,  1.2433e-01, -5.4949e-01,\n",
       "       -5.4207e-01,  1.0185e-01,  2.6006e-01, -1.9968e-01,  3.5519e-01,\n",
       "        2.2833e-01,  4.2382e-01,  5.7301e-01,  2.1056e-01, -3.7743e-01,\n",
       "        5.8443e-01,  2.4866e-01, -5.6586e-01, -1.2772e-01,  9.1222e-03,\n",
       "       -8.0404e-01,  5.1405e-01,  1.4417e-01, -3.9849e-01, -1.1558e+00,\n",
       "        7.9826e-01, -1.8344e-01, -1.9827e-01,  2.2899e-01,  1.8485e-01,\n",
       "        7.4423e-01,  1.4049e-02, -5.0933e-02, -2.0509e-01, -2.9528e-01,\n",
       "       -4.4738e-01, -2.7899e-02,  5.9281e-01,  2.2550e-01,  1.0927e-01,\n",
       "        2.5770e-01, -6.3299e-01, -3.3894e-01, -4.6529e-02, -7.5074e-01,\n",
       "        5.4017e-01, -1.2343e-01,  1.3007e-01,  3.3107e-01, -8.4915e-02,\n",
       "        8.0080e-01,  2.4375e-01,  1.6980e-01,  3.4564e-01,  2.2231e-01,\n",
       "        8.0076e-02,  2.7845e-01, -2.7311e-01,  6.4988e-01, -5.1472e-01,\n",
       "       -1.1564e-02,  2.7169e-01,  6.7534e-02,  2.3624e-01,  2.4056e-02,\n",
       "       -1.1184e-01,  2.2486e-01,  3.0650e-01,  5.0438e-02, -1.6459e-01,\n",
       "        1.4472e-01, -1.1166e-01,  1.6446e-01,  6.0101e-01,  5.7580e-02,\n",
       "        4.2166e-01, -5.8822e-01,  3.0782e-01, -3.8987e-01, -3.1985e-01,\n",
       "       -4.0279e-01,  2.2218e-01, -1.1498e-01, -2.8066e-01, -4.7833e-01,\n",
       "        3.8530e-01, -4.0798e-01,  2.3677e-01, -3.9639e-01, -1.5272e-01,\n",
       "        2.0083e-01, -7.5988e-01,  1.2568e-01, -4.1772e-02, -1.2633e-01,\n",
       "       -1.5905e-01,  3.9189e-01,  1.9359e-01,  3.3484e-01, -9.5768e-02,\n",
       "       -2.4580e-01, -4.4873e-01,  8.6779e-01, -3.3971e-01,  2.1499e-01,\n",
       "       -1.6630e-02, -1.6011e-01, -1.5134e-01, -2.6891e-01, -1.6985e-01,\n",
       "        2.6266e-01, -1.4506e-01,  5.0241e-02, -3.8344e-02,  1.2902e-01,\n",
       "       -5.4982e-01,  1.5920e-01,  4.7450e-01, -2.4614e-01,  1.5475e-01,\n",
       "        6.2323e-01, -1.1007e-01, -1.0277e-01, -7.3014e-01,  6.6626e-02,\n",
       "       -3.6440e-01,  2.8613e-01,  1.7554e-01, -1.9394e-01,  6.2117e-01,\n",
       "       -2.3158e-01,  3.4871e-01,  4.7117e-01,  2.0370e-01, -5.0068e-01,\n",
       "       -4.2988e-01,  3.8993e-01, -2.2466e-01, -5.5714e-01, -6.2725e-01,\n",
       "       -3.3684e-01,  7.5100e-01,  9.9715e-02, -2.9569e-02,  4.7680e-01,\n",
       "        3.9799e-01,  1.6243e-01, -1.1320e-01,  3.8883e-02, -1.2224e-01,\n",
       "        5.1822e-01, -5.1454e-01, -2.5220e-01, -4.1819e-01, -4.3345e-01,\n",
       "        2.4825e-01, -2.5243e-01,  9.8055e-02, -1.3371e-01,  4.4515e-01,\n",
       "       -2.2072e-01,  3.9097e-01, -6.4337e-01, -7.8746e-03,  5.2893e-02,\n",
       "        2.8640e-01,  1.4645e-01,  5.2053e-01,  3.1029e-01,  4.3525e-01,\n",
       "        5.2019e-01,  1.0295e-01,  4.3665e-01, -2.1850e-01,  9.7849e-02,\n",
       "       -4.7239e-02,  1.3114e-02, -4.0174e-01,  3.5906e-01,  8.6651e-01,\n",
       "       -4.5276e-02,  2.9202e-01,  5.3306e-01, -6.9716e-02,  1.1923e-02,\n",
       "        6.7037e-01,  2.7845e-01,  3.5110e-01, -3.1842e-01, -4.7909e-02,\n",
       "        1.3466e+00,  2.9468e-01, -6.7677e-04,  1.7889e-01,  3.6554e-01,\n",
       "       -3.6858e-02, -5.2823e-01, -1.7178e-02,  5.7655e-01, -3.7890e-01,\n",
       "       -3.6441e-01, -1.6704e-01,  5.1250e-01,  3.2942e-02,  2.0260e-01,\n",
       "        2.1113e-02,  3.7501e-01,  2.1700e-01, -4.4795e-02, -6.1301e-01,\n",
       "        5.8368e-02,  5.2486e-01,  2.8902e-01, -1.3775e-01,  2.0391e-01,\n",
       "        1.3374e-01,  4.5760e-01,  4.8127e-01, -5.2459e-02, -3.9901e-01,\n",
       "        3.6826e-02, -2.5347e-01, -2.1032e-01,  2.3297e-02, -4.9505e-01,\n",
       "       -3.1016e-01, -1.2722e-01, -6.8744e-01, -6.2104e-02, -1.4675e-01,\n",
       "        1.7313e-01, -3.0187e-02,  3.6520e-01, -1.1319e-01, -2.7209e-01,\n",
       "       -8.7279e-01, -2.4128e-01, -7.0009e-01,  3.2357e-01,  7.7269e-02,\n",
       "        2.3037e-02, -4.8389e-01, -2.7781e-01, -1.7685e-01,  8.9445e-01,\n",
       "       -2.2035e-01,  3.7738e-01, -4.4369e-01,  1.0008e+00, -5.6076e-01,\n",
       "        2.6936e-02, -2.0834e-01,  4.0490e-01,  5.1008e-02,  2.6348e-01,\n",
       "        2.9137e-01, -1.8987e-01,  2.3051e-01, -3.7336e-01,  3.3753e-01,\n",
       "        2.3261e-01,  7.4455e-03, -9.0892e-02, -7.3782e-02,  8.0985e-02,\n",
       "        3.2900e-01, -2.4315e+00,  1.9785e-01,  2.6305e-01, -3.2113e-01,\n",
       "       -2.2676e-01,  2.4424e-01, -1.0555e-01,  8.1455e-02,  8.8935e-02,\n",
       "        2.4308e-01, -9.4574e-02, -1.0475e-01, -2.0805e-01, -3.5016e-01,\n",
       "       -4.3155e-01,  7.7688e-02,  2.9102e-01,  6.3630e-01,  3.9158e-02,\n",
       "       -1.1986e-01, -3.9153e-02,  1.3196e-01, -3.8227e-01,  3.9248e-01],\n",
       "      dtype=float32)"
      ]
     },
     "execution_count": 4,
     "metadata": {},
     "output_type": "execute_result"
    }
   ],
   "source": [
    "import numpy as np\n",
    "glove_arr = np.load('/Users/emilbiju/Google Drive (ee17b071@smail.iitm.ac.in)/NLP2021_Project/Py_final_code/EE17B071_EE17B154_code/Large_files/glove_arr.npy')\n",
    "glove_arr[0]"
   ]
  },
  {
   "cell_type": "code",
   "execution_count": null,
   "metadata": {},
   "outputs": [],
   "source": []
  },
  {
   "cell_type": "code",
   "execution_count": null,
   "metadata": {},
   "outputs": [],
   "source": []
  },
  {
   "cell_type": "code",
   "execution_count": 3,
   "metadata": {},
   "outputs": [
    {
     "name": "stdout",
     "output_type": "stream",
     "text": [
      "Enter query below\n",
      "^C\n",
      "Traceback (most recent call last):\n",
      "  File \"main.py\", line 333, in <module>\n",
      "    searchEngine.handleCustomQuery()\n",
      "  File \"main.py\", line 286, in handleCustomQuery\n",
      "    query = input()\n",
      "KeyboardInterrupt\n"
     ]
    }
   ],
   "source": [
    "run_str = f\"python main.py -dataset={args.dataset} -out_folder={args.out_folder} -model={args.model} -k={args.k}\\\n",
    "        -segmenter={args.segmenter} -tokenizer={args.tokenizer} -interactive -query={args.query}\"\n",
    "if args.custom:\n",
    "    run_str+=\" -custom\"\n",
    "if args.preprocess:\n",
    "    run_str+=\" -preprocess\"\n",
    "    \n",
    "!{run_str}"
   ]
  },
  {
   "cell_type": "code",
   "execution_count": null,
   "metadata": {},
   "outputs": [],
   "source": []
  },
  {
   "cell_type": "code",
   "execution_count": null,
   "metadata": {},
   "outputs": [],
   "source": []
  },
  {
   "cell_type": "code",
   "execution_count": 3,
   "metadata": {},
   "outputs": [],
   "source": [
    "import nltk\n",
    "import json\n",
    "\n",
    "queries_json = json.load(open(\"/Users/emilbiju/Google Drive (ee17b071@smail.iitm.ac.in)/NLP2021_Project/Py_final_code/EE17B071_EE17B154_code/Cranfield_Dataset/cranfield/cran_queries.json\", 'r'))[:]\n",
    "queries = [item[\"query\"] for item in queries_json]\n",
    "\n",
    "NP_list = []\n",
    "for text in queries:\n",
    "    sentences = nltk.sent_tokenize(text)\n",
    "    sentences = [nltk.word_tokenize(sent) for sent in sentences]\n",
    "    sentences = [nltk.pos_tag(sent) for sent in sentences]\n",
    "\n",
    "    grammar = \"\"\"NP: {<DT>?<JJ>*<NN.*>+}\n",
    "           RELATION: {<V.*>}\n",
    "                     {<DT>?<JJ>*<NN.*>+}\n",
    "           ENTITY: {<NN.*>}\"\"\"\n",
    "\n",
    "    cp = nltk.RegexpParser(grammar)\n",
    "    # for i in sentences:\n",
    "    #     result = cp.parse(i)\n",
    "    #     print(result)\n",
    "    #     print(type(result))\n",
    "    # #     result.draw() \n",
    "\n",
    "    noun_phrases_list = [' '.join(leaf[0] for leaf in tree.leaves()) \n",
    "                          for tree in cp.parse(sentences[0]).subtrees() \n",
    "                          if tree.label()=='NP'] \n",
    "    \n",
    "    NP_list.append(noun_phrases_list) "
   ]
  },
  {
   "cell_type": "code",
   "execution_count": 4,
   "metadata": {
    "scrolled": false
   },
   "outputs": [
    {
     "data": {
      "text/plain": [
       "[['similarity laws', 'aeroelastic models', 'heated high speed aircraft'],\n",
       " ['aeroelastic problems', 'flight', 'high speed aircraft'],\n",
       " ['problems', 'heat conduction', 'composite slabs'],\n",
       " ['a criterion',\n",
       "  'the validity',\n",
       "  'flow solutions',\n",
       "  'gas mixtures',\n",
       "  'assumption',\n",
       "  'instantaneous local chemical equilibrium'],\n",
       " ['chemical', 'kinetic system', 'hypersonic aerodynamic problems']]"
      ]
     },
     "execution_count": 4,
     "metadata": {},
     "output_type": "execute_result"
    }
   ],
   "source": [
    "NP_list[:5] "
   ]
  },
  {
   "cell_type": "code",
   "execution_count": 5,
   "metadata": {},
   "outputs": [
    {
     "data": {
      "text/plain": [
       "['anyone',\n",
       " 'the influence',\n",
       " 'joule heating',\n",
       " 'magnetohydrodynamic free convection',\n",
       " 'general conditions']"
      ]
     },
     "execution_count": 5,
     "metadata": {},
     "output_type": "execute_result"
    }
   ],
   "source": [
    "NP_list[19]"
   ]
  },
  {
   "cell_type": "code",
   "execution_count": 8,
   "metadata": {},
   "outputs": [],
   "source": [
    "NP_list_flat = [i for j in range(len(NP_list)) for i in NP_list[j] ]"
   ]
  },
  {
   "cell_type": "code",
   "execution_count": 9,
   "metadata": {},
   "outputs": [
    {
     "data": {
      "text/plain": [
       "945"
      ]
     },
     "execution_count": 9,
     "metadata": {},
     "output_type": "execute_result"
    }
   ],
   "source": [
    "len(NP_list_flat)"
   ]
  },
  {
   "cell_type": "code",
   "execution_count": 12,
   "metadata": {},
   "outputs": [
    {
     "data": {
      "text/plain": [
       "[['similarity laws', 'aeroelastic models', 'heated high speed aircraft'],\n",
       " ['aeroelastic problems', 'flight', 'high speed aircraft'],\n",
       " ['problems', 'heat conduction', 'composite slabs'],\n",
       " ['a criterion',\n",
       "  'the validity',\n",
       "  'flow solutions',\n",
       "  'gas mixtures',\n",
       "  'assumption',\n",
       "  'instantaneous local chemical equilibrium'],\n",
       " ['chemical', 'kinetic system', 'hypersonic aerodynamic problems']]"
      ]
     },
     "execution_count": 12,
     "metadata": {},
     "output_type": "execute_result"
    }
   ],
   "source": [
    "NP_list[0:5]"
   ]
  },
  {
   "cell_type": "code",
   "execution_count": 13,
   "metadata": {},
   "outputs": [
    {
     "data": {
      "text/plain": [
       "['similarity laws',\n",
       " 'aeroelastic models',\n",
       " 'heated high speed aircraft',\n",
       " 'aeroelastic problems',\n",
       " 'flight']"
      ]
     },
     "execution_count": 13,
     "metadata": {},
     "output_type": "execute_result"
    }
   ],
   "source": [
    "NP_list_flat[:5]"
   ]
  },
  {
   "cell_type": "code",
   "execution_count": null,
   "metadata": {},
   "outputs": [],
   "source": []
  },
  {
   "cell_type": "code",
   "execution_count": 6,
   "metadata": {},
   "outputs": [],
   "source": [
    "import pickle\n",
    "with open('/Users/emilbiju/Google Drive (ee17b071@smail.iitm.ac.in)/NLP2021_Project/Py_final_code/EE17B071_EE17B154_code/Output/NP_list.npy', 'wb') as f:\n",
    "    pickle.dump(NP_list, f)"
   ]
  },
  {
   "cell_type": "code",
   "execution_count": 7,
   "metadata": {},
   "outputs": [],
   "source": [
    "with open('/Users/emilbiju/Google Drive (ee17b071@smail.iitm.ac.in)/NLP2021_Project/Py_final_code/EE17B071_EE17B154_code/Output/NP_list.npy', 'rb') as f:\n",
    "    NP2= pickle.load(f)"
   ]
  },
  {
   "cell_type": "code",
   "execution_count": 10,
   "metadata": {
    "scrolled": false
   },
   "outputs": [
    {
     "data": {
      "text/plain": [
       "[['similarity laws', 'aeroelastic models', 'heated high speed aircraft'],\n",
       " ['aeroelastic problems', 'flight', 'high speed aircraft'],\n",
       " ['problems', 'heat conduction', 'composite slabs'],\n",
       " ['a criterion',\n",
       "  'the validity',\n",
       "  'flow solutions',\n",
       "  'gas mixtures',\n",
       "  'assumption',\n",
       "  'instantaneous local chemical equilibrium'],\n",
       " ['chemical', 'kinetic system', 'hypersonic aerodynamic problems']]"
      ]
     },
     "execution_count": 10,
     "metadata": {},
     "output_type": "execute_result"
    }
   ],
   "source": [
    "NP2[:5]"
   ]
  },
  {
   "cell_type": "code",
   "execution_count": null,
   "metadata": {},
   "outputs": [],
   "source": [
    "python3 main.py -out_folder Output/ -dataset cranfield/ -model vector_space - "
   ]
  },
  {
   "cell_type": "code",
   "execution_count": 1,
   "metadata": {},
   "outputs": [
    {
     "ename": "ValueError",
     "evalue": "Unsuccessful TensorSliceReader constructor: Failed to get matching files on /Users/emilbiju/Google Drive (ee17b071@smail.iitm.ac.in)/NLP2021_Project/Py_final_code/EE17B071_EE17B154_code/Large_files/variables/variables: Not found: /Users/emilbiju/Google Drive (ee17b071@smail.iitm.ac.in)/NLP2021_Project/Py_final_code/EE17B071_EE17B154_code/Large_files/variables; No such file or directory",
     "output_type": "error",
     "traceback": [
      "\u001b[0;31m---------------------------------------------------------------------------\u001b[0m",
      "\u001b[0;31mValueError\u001b[0m                                Traceback (most recent call last)",
      "\u001b[0;32m<ipython-input-1-81f885c6fe59>\u001b[0m in \u001b[0;36m<module>\u001b[0;34m\u001b[0m\n\u001b[1;32m      3\u001b[0m \u001b[0;32mimport\u001b[0m \u001b[0mnumpy\u001b[0m \u001b[0;32mas\u001b[0m \u001b[0mnp\u001b[0m\u001b[0;34m\u001b[0m\u001b[0;34m\u001b[0m\u001b[0m\n\u001b[1;32m      4\u001b[0m \u001b[0mmodule_url\u001b[0m \u001b[0;34m=\u001b[0m \u001b[0;34m\"/Users/emilbiju/Google Drive (ee17b071@smail.iitm.ac.in)/NLP2021_Project/Py_final_code/EE17B071_EE17B154_code/Large_files/\"\u001b[0m\u001b[0;34m\u001b[0m\u001b[0;34m\u001b[0m\u001b[0m\n\u001b[0;32m----> 5\u001b[0;31m \u001b[0mmodel\u001b[0m \u001b[0;34m=\u001b[0m \u001b[0mhub\u001b[0m\u001b[0;34m.\u001b[0m\u001b[0mload\u001b[0m\u001b[0;34m(\u001b[0m\u001b[0mmodule_url\u001b[0m\u001b[0;34m)\u001b[0m\u001b[0;34m\u001b[0m\u001b[0;34m\u001b[0m\u001b[0m\n\u001b[0m\u001b[1;32m      6\u001b[0m \u001b[0mprint\u001b[0m \u001b[0;34m(\u001b[0m\u001b[0;34m\"module %s loaded\"\u001b[0m \u001b[0;34m%\u001b[0m \u001b[0mmodule_url\u001b[0m\u001b[0;34m)\u001b[0m\u001b[0;34m\u001b[0m\u001b[0;34m\u001b[0m\u001b[0m\n",
      "\u001b[0;32m/opt/anaconda3/lib/python3.7/site-packages/tensorflow_hub/module_v2.py\u001b[0m in \u001b[0;36mload\u001b[0;34m(handle, tags, options)\u001b[0m\n\u001b[1;32m    104\u001b[0m         module_path, tags=tags, options=options)\n\u001b[1;32m    105\u001b[0m   \u001b[0;32melse\u001b[0m\u001b[0;34m:\u001b[0m\u001b[0;34m\u001b[0m\u001b[0;34m\u001b[0m\u001b[0m\n\u001b[0;32m--> 106\u001b[0;31m     \u001b[0mobj\u001b[0m \u001b[0;34m=\u001b[0m \u001b[0mtf\u001b[0m\u001b[0;34m.\u001b[0m\u001b[0mcompat\u001b[0m\u001b[0;34m.\u001b[0m\u001b[0mv1\u001b[0m\u001b[0;34m.\u001b[0m\u001b[0msaved_model\u001b[0m\u001b[0;34m.\u001b[0m\u001b[0mload_v2\u001b[0m\u001b[0;34m(\u001b[0m\u001b[0mmodule_path\u001b[0m\u001b[0;34m,\u001b[0m \u001b[0mtags\u001b[0m\u001b[0;34m=\u001b[0m\u001b[0mtags\u001b[0m\u001b[0;34m)\u001b[0m\u001b[0;34m\u001b[0m\u001b[0;34m\u001b[0m\u001b[0m\n\u001b[0m\u001b[1;32m    107\u001b[0m   \u001b[0mobj\u001b[0m\u001b[0;34m.\u001b[0m\u001b[0m_is_hub_module_v1\u001b[0m \u001b[0;34m=\u001b[0m \u001b[0mis_hub_module_v1\u001b[0m  \u001b[0;31m# pylint: disable=protected-access\u001b[0m\u001b[0;34m\u001b[0m\u001b[0;34m\u001b[0m\u001b[0m\n\u001b[1;32m    108\u001b[0m   \u001b[0;32mreturn\u001b[0m \u001b[0mobj\u001b[0m\u001b[0;34m\u001b[0m\u001b[0;34m\u001b[0m\u001b[0m\n",
      "\u001b[0;32m/opt/anaconda3/lib/python3.7/site-packages/tensorflow/python/saved_model/load.py\u001b[0m in \u001b[0;36mload\u001b[0;34m(export_dir, tags)\u001b[0m\n\u001b[1;32m    576\u001b[0m     \u001b[0mValueError\u001b[0m\u001b[0;34m:\u001b[0m \u001b[0mIf\u001b[0m\u001b[0;31m \u001b[0m\u001b[0;31m`\u001b[0m\u001b[0mtags\u001b[0m\u001b[0;31m`\u001b[0m \u001b[0mdon\u001b[0m\u001b[0;31m'\u001b[0m\u001b[0mt\u001b[0m \u001b[0mmatch\u001b[0m \u001b[0ma\u001b[0m \u001b[0mMetaGraph\u001b[0m \u001b[0;32min\u001b[0m \u001b[0mthe\u001b[0m \u001b[0mSavedModel\u001b[0m\u001b[0;34m.\u001b[0m\u001b[0;34m\u001b[0m\u001b[0;34m\u001b[0m\u001b[0m\n\u001b[1;32m    577\u001b[0m   \"\"\"\n\u001b[0;32m--> 578\u001b[0;31m   \u001b[0;32mreturn\u001b[0m \u001b[0mload_internal\u001b[0m\u001b[0;34m(\u001b[0m\u001b[0mexport_dir\u001b[0m\u001b[0;34m,\u001b[0m \u001b[0mtags\u001b[0m\u001b[0;34m)\u001b[0m\u001b[0;34m\u001b[0m\u001b[0;34m\u001b[0m\u001b[0m\n\u001b[0m\u001b[1;32m    579\u001b[0m \u001b[0;34m\u001b[0m\u001b[0m\n\u001b[1;32m    580\u001b[0m \u001b[0;34m\u001b[0m\u001b[0m\n",
      "\u001b[0;32m/opt/anaconda3/lib/python3.7/site-packages/tensorflow/python/saved_model/load.py\u001b[0m in \u001b[0;36mload_internal\u001b[0;34m(export_dir, tags, loader_cls)\u001b[0m\n\u001b[1;32m    602\u001b[0m       loader = loader_cls(object_graph_proto,\n\u001b[1;32m    603\u001b[0m                           \u001b[0msaved_model_proto\u001b[0m\u001b[0;34m,\u001b[0m\u001b[0;34m\u001b[0m\u001b[0;34m\u001b[0m\u001b[0m\n\u001b[0;32m--> 604\u001b[0;31m                           export_dir)\n\u001b[0m\u001b[1;32m    605\u001b[0m       \u001b[0mroot\u001b[0m \u001b[0;34m=\u001b[0m \u001b[0mloader\u001b[0m\u001b[0;34m.\u001b[0m\u001b[0mget\u001b[0m\u001b[0;34m(\u001b[0m\u001b[0;36m0\u001b[0m\u001b[0;34m)\u001b[0m\u001b[0;34m\u001b[0m\u001b[0;34m\u001b[0m\u001b[0m\n\u001b[1;32m    606\u001b[0m       \u001b[0;32mif\u001b[0m \u001b[0misinstance\u001b[0m\u001b[0;34m(\u001b[0m\u001b[0mloader\u001b[0m\u001b[0;34m,\u001b[0m \u001b[0mLoader\u001b[0m\u001b[0;34m)\u001b[0m\u001b[0;34m:\u001b[0m\u001b[0;34m\u001b[0m\u001b[0;34m\u001b[0m\u001b[0m\n",
      "\u001b[0;32m/opt/anaconda3/lib/python3.7/site-packages/tensorflow/python/saved_model/load.py\u001b[0m in \u001b[0;36m__init__\u001b[0;34m(self, object_graph_proto, saved_model_proto, export_dir)\u001b[0m\n\u001b[1;32m    122\u001b[0m \u001b[0;34m\u001b[0m\u001b[0m\n\u001b[1;32m    123\u001b[0m     \u001b[0mself\u001b[0m\u001b[0;34m.\u001b[0m\u001b[0m_load_all\u001b[0m\u001b[0;34m(\u001b[0m\u001b[0;34m)\u001b[0m\u001b[0;34m\u001b[0m\u001b[0;34m\u001b[0m\u001b[0m\n\u001b[0;32m--> 124\u001b[0;31m     \u001b[0mself\u001b[0m\u001b[0;34m.\u001b[0m\u001b[0m_restore_checkpoint\u001b[0m\u001b[0;34m(\u001b[0m\u001b[0;34m)\u001b[0m\u001b[0;34m\u001b[0m\u001b[0;34m\u001b[0m\u001b[0m\n\u001b[0m\u001b[1;32m    125\u001b[0m \u001b[0;34m\u001b[0m\u001b[0m\n\u001b[1;32m    126\u001b[0m     \u001b[0;32mfor\u001b[0m \u001b[0mnode\u001b[0m \u001b[0;32min\u001b[0m \u001b[0mself\u001b[0m\u001b[0;34m.\u001b[0m\u001b[0m_nodes\u001b[0m\u001b[0;34m:\u001b[0m\u001b[0;34m\u001b[0m\u001b[0;34m\u001b[0m\u001b[0m\n",
      "\u001b[0;32m/opt/anaconda3/lib/python3.7/site-packages/tensorflow/python/saved_model/load.py\u001b[0m in \u001b[0;36m_restore_checkpoint\u001b[0;34m(self)\u001b[0m\n\u001b[1;32m    308\u001b[0m       \u001b[0mload_status\u001b[0m \u001b[0;34m=\u001b[0m \u001b[0msaver\u001b[0m\u001b[0;34m.\u001b[0m\u001b[0mrestore\u001b[0m\u001b[0;34m(\u001b[0m\u001b[0mvariables_path\u001b[0m\u001b[0;34m)\u001b[0m\u001b[0;34m.\u001b[0m\u001b[0mexpect_partial\u001b[0m\u001b[0;34m(\u001b[0m\u001b[0;34m)\u001b[0m\u001b[0;34m\u001b[0m\u001b[0;34m\u001b[0m\u001b[0m\n\u001b[1;32m    309\u001b[0m     \u001b[0;32melse\u001b[0m\u001b[0;34m:\u001b[0m\u001b[0;34m\u001b[0m\u001b[0;34m\u001b[0m\u001b[0m\n\u001b[0;32m--> 310\u001b[0;31m       \u001b[0mload_status\u001b[0m \u001b[0;34m=\u001b[0m \u001b[0msaver\u001b[0m\u001b[0;34m.\u001b[0m\u001b[0mrestore\u001b[0m\u001b[0;34m(\u001b[0m\u001b[0mvariables_path\u001b[0m\u001b[0;34m)\u001b[0m\u001b[0;34m\u001b[0m\u001b[0;34m\u001b[0m\u001b[0m\n\u001b[0m\u001b[1;32m    311\u001b[0m     \u001b[0mload_status\u001b[0m\u001b[0;34m.\u001b[0m\u001b[0massert_existing_objects_matched\u001b[0m\u001b[0;34m(\u001b[0m\u001b[0;34m)\u001b[0m\u001b[0;34m\u001b[0m\u001b[0;34m\u001b[0m\u001b[0m\n\u001b[1;32m    312\u001b[0m     \u001b[0mcheckpoint\u001b[0m \u001b[0;34m=\u001b[0m \u001b[0mload_status\u001b[0m\u001b[0;34m.\u001b[0m\u001b[0m_checkpoint\u001b[0m\u001b[0;34m\u001b[0m\u001b[0;34m\u001b[0m\u001b[0m\n",
      "\u001b[0;32m/opt/anaconda3/lib/python3.7/site-packages/tensorflow/python/training/tracking/util.py\u001b[0m in \u001b[0;36mrestore\u001b[0;34m(self, save_path)\u001b[0m\n\u001b[1;32m   1258\u001b[0m     \u001b[0;32mif\u001b[0m \u001b[0msave_path\u001b[0m \u001b[0;32mis\u001b[0m \u001b[0;32mNone\u001b[0m\u001b[0;34m:\u001b[0m\u001b[0;34m\u001b[0m\u001b[0;34m\u001b[0m\u001b[0m\n\u001b[1;32m   1259\u001b[0m       \u001b[0;32mreturn\u001b[0m \u001b[0mInitializationOnlyStatus\u001b[0m\u001b[0;34m(\u001b[0m\u001b[0mself\u001b[0m\u001b[0;34m.\u001b[0m\u001b[0m_graph_view\u001b[0m\u001b[0;34m,\u001b[0m \u001b[0mops\u001b[0m\u001b[0;34m.\u001b[0m\u001b[0muid\u001b[0m\u001b[0;34m(\u001b[0m\u001b[0;34m)\u001b[0m\u001b[0;34m)\u001b[0m\u001b[0;34m\u001b[0m\u001b[0;34m\u001b[0m\u001b[0m\n\u001b[0;32m-> 1260\u001b[0;31m     \u001b[0mreader\u001b[0m \u001b[0;34m=\u001b[0m \u001b[0mpy_checkpoint_reader\u001b[0m\u001b[0;34m.\u001b[0m\u001b[0mNewCheckpointReader\u001b[0m\u001b[0;34m(\u001b[0m\u001b[0msave_path\u001b[0m\u001b[0;34m)\u001b[0m\u001b[0;34m\u001b[0m\u001b[0;34m\u001b[0m\u001b[0m\n\u001b[0m\u001b[1;32m   1261\u001b[0m     \u001b[0mgraph_building\u001b[0m \u001b[0;34m=\u001b[0m \u001b[0;32mnot\u001b[0m \u001b[0mcontext\u001b[0m\u001b[0;34m.\u001b[0m\u001b[0mexecuting_eagerly\u001b[0m\u001b[0;34m(\u001b[0m\u001b[0;34m)\u001b[0m\u001b[0;34m\u001b[0m\u001b[0;34m\u001b[0m\u001b[0m\n\u001b[1;32m   1262\u001b[0m     \u001b[0;32mif\u001b[0m \u001b[0mgraph_building\u001b[0m\u001b[0;34m:\u001b[0m\u001b[0;34m\u001b[0m\u001b[0;34m\u001b[0m\u001b[0m\n",
      "\u001b[0;32m/opt/anaconda3/lib/python3.7/site-packages/tensorflow/python/training/py_checkpoint_reader.py\u001b[0m in \u001b[0;36mNewCheckpointReader\u001b[0;34m(filepattern)\u001b[0m\n\u001b[1;32m     93\u001b[0m   \"\"\"\n\u001b[1;32m     94\u001b[0m   \u001b[0;32mtry\u001b[0m\u001b[0;34m:\u001b[0m\u001b[0;34m\u001b[0m\u001b[0;34m\u001b[0m\u001b[0m\n\u001b[0;32m---> 95\u001b[0;31m     \u001b[0;32mreturn\u001b[0m \u001b[0mCheckpointReader\u001b[0m\u001b[0;34m(\u001b[0m\u001b[0mcompat\u001b[0m\u001b[0;34m.\u001b[0m\u001b[0mas_bytes\u001b[0m\u001b[0;34m(\u001b[0m\u001b[0mfilepattern\u001b[0m\u001b[0;34m)\u001b[0m\u001b[0;34m)\u001b[0m\u001b[0;34m\u001b[0m\u001b[0;34m\u001b[0m\u001b[0m\n\u001b[0m\u001b[1;32m     96\u001b[0m   \u001b[0;31m# TODO(b/143319754): Remove the RuntimeError casting logic once we resolve the\u001b[0m\u001b[0;34m\u001b[0m\u001b[0;34m\u001b[0m\u001b[0;34m\u001b[0m\u001b[0m\n\u001b[1;32m     97\u001b[0m   \u001b[0;31m# issue with throwing python exceptions from C++.\u001b[0m\u001b[0;34m\u001b[0m\u001b[0;34m\u001b[0m\u001b[0;34m\u001b[0m\u001b[0m\n",
      "\u001b[0;31mValueError\u001b[0m: Unsuccessful TensorSliceReader constructor: Failed to get matching files on /Users/emilbiju/Google Drive (ee17b071@smail.iitm.ac.in)/NLP2021_Project/Py_final_code/EE17B071_EE17B154_code/Large_files/variables/variables: Not found: /Users/emilbiju/Google Drive (ee17b071@smail.iitm.ac.in)/NLP2021_Project/Py_final_code/EE17B071_EE17B154_code/Large_files/variables; No such file or directory"
     ]
    }
   ],
   "source": [
    "import tensorflow as tf\n",
    "import tensorflow_hub as hub\n",
    "import numpy as np\n",
    "module_url = \"/Users/emilbiju/Google Drive (ee17b071@smail.iitm.ac.in)/NLP2021_Project/Py_final_code/EE17B071_EE17B154_code/Large_files/\" \n",
    "model = hub.load(module_url)\n",
    "print (\"module %s loaded\" % module_url)"
   ]
  },
  {
   "cell_type": "code",
   "execution_count": null,
   "metadata": {},
   "outputs": [],
   "source": [
    "sentence_embeddings = model(sentences)\n",
    "query = \"I had pizza and pasta\"\n",
    "query_vec = model([query])[0]"
   ]
  }
 ],
 "metadata": {
  "kernelspec": {
   "display_name": "emil_env",
   "language": "python",
   "name": "emil_env"
  },
  "language_info": {
   "codemirror_mode": {
    "name": "ipython",
    "version": 3
   },
   "file_extension": ".py",
   "mimetype": "text/x-python",
   "name": "python",
   "nbconvert_exporter": "python",
   "pygments_lexer": "ipython3",
   "version": "3.7.7"
  }
 },
 "nbformat": 4,
 "nbformat_minor": 4
}
